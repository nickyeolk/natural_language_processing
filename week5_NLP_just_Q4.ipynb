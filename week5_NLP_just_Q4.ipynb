{
 "cells": [
  {
   "cell_type": "markdown",
   "metadata": {},
   "source": [
    "# Week 5 - Natural Language Processing (NLP)"
   ]
  },
  {
   "cell_type": "code",
   "execution_count": 1,
   "metadata": {},
   "outputs": [],
   "source": [
    "import numpy as np\n",
    "import matplotlib.pyplot as plt\n",
    "from sklearn.model_selection import train_test_split, cross_val_score\n",
    "import src.week5_func as wk5\n",
    "import os\n",
    "import re\n",
    "import pandas as pd\n",
    "from sklearn.feature_extraction.text import CountVectorizer\n",
    "from sklearn.feature_extraction.text import TfidfTransformer"
   ]
  },
  {
   "cell_type": "code",
   "execution_count": 2,
   "metadata": {},
   "outputs": [],
   "source": [
    "# data processed and saved with week5_func.save_as_pkl()\n",
    "df_raw = pd.read_pickle('./data/df_raw.pkl')\n",
    "df_raw_test = pd.read_pickle('./data/df_raw_test.pkl')"
   ]
  },
  {
   "cell_type": "code",
   "execution_count": 3,
   "metadata": {},
   "outputs": [],
   "source": [
    "import torch.nn as nn\n",
    "import torch\n",
    "import torch.optim as optim\n",
    "import torch.nn.functional as F"
   ]
  },
  {
   "cell_type": "code",
   "execution_count": 4,
   "metadata": {},
   "outputs": [
    {
     "name": "stdout",
     "output_type": "stream",
     "text": [
      "Bromwell High is a cartoon comedy. It ran at the same time as some other programs about school life, such as \"Teachers\". My 35 years in the teaching profession lead me to believe that Bromwell High's satire is much closer to reality than is \"Teachers\". The scramble to survive financially, the insightful students who can see right through their pathetic teachers' pomp, the pettiness of the whole situation, all remind me of the schools I knew and their students. When I saw the episode in which a student repeatedly tried to burn down the school, I immediately recalled ......... at .......... High. A classic line: INSPECTOR: I'm here to sack one of your teachers. STUDENT: Welcome to Bromwell High. I expect that many adults of my age think that Bromwell High is far fetched. What a pity that it isn't!Homelessness (or Houselessness as George Carlin stated) has been an issue for years but never a plan to help those on the street that were once considered human who did everything from going to school, work, or vote for the matter. Most people think of the homeless as just a lost cause while worrying about things such as racism, the war on Iraq, pressuring kids to succeed, technology, the elections, inflation, or worrying if they'll be next to end up on the streets.<br /><br />But what if you were given a bet to live on the streets for a month without the luxuries you once had from a home, the entertainment sets, a bathroom, pictures on the wall, a computer, and everything you once treasure to see what it's like to be homeless? That is Goddard Bolt's lesson.<br /><br />Mel Brooks (who directs) who stars as Bolt plays a rich man who has everything in the world until deciding to make a bet with a sissy rival (Jeffery Tambor) to see if he can live in the streets for thirty days without the luxuries; if Bolt succeeds, he can do what he wants with a future project of making more buildings. The bet's on where Bolt is thrown on the street with a bracelet on his leg to monitor his every move where he can't step off the sidewalk. He's given the nickname Pepto by a vagrant after it's written on his forehead where Bolt meets other characters including a woman by the name of Molly (Lesley Ann Warren) an ex-dancer who got divorce before losing her home, and her pals Sailor (Howard Morris) and Fumes (Teddy Wilson) who are already used to the streets. They're survivors. Bolt isn't. He's not used to reaching mutual agreements like he once did when being rich where it's fight or flight, kill or be killed.<br /><br />While the love connection between Molly and Bolt wasn't necessary to plot, I found \"Life Stinks\" to be one of Mel Brooks' observant films where prior to being a comedy, it shows a tender side compared to his slapstick work such as Blazing Saddles, Young Frankenstein, or Spaceballs for the matter, to show what it's like having something valuable before losing it the next day or on the other hand making a stupid bet like all rich people do when they don't know what to do with their money. Maybe they should give it to the homeless instead of using it like Monopoly money.<br /><br />Or maybe this film will inspire you to help others.Brilliant over-acting by Lesley Ann Warren. Best dramatic hobo lady I have ever seen, and love scenes in clothes warehouse are second to none. The corn on face is a classic, as good as anything in Blazing Saddles. The take on lawyers is also superb. After being accused of being a turncoat, selling out his boss, and being dishonest the lawyer of Pepto Bolt shrugs indifferently \"I'm a lawyer\" he says. Three funny words. Jeffrey Tambor, a favorite from the later Larry Sanders show, is fantastic here too as a mad millionaire who wants to crush the ghetto. His character is more malevolent than usual. The hospital scene, and the scene where the homeless invade a demolition site, are all-time classics. Look for the legs scene and the two big diggers fighting (one bleeds). This movie gets better each time I see it (which is quite often).This is easily the most underrated film inn the Brooks cannon. Sure, its flawed. It does not give a realistic view of homelessness (unlike, say, how Citizen Kane gave a realistic view of lounge singers, or Titanic gave a realistic view of Italians YOU IDIOTS). Many of the jokes fall flat. But still, this film is very lovable in a way many comedies are not, and to pull that off in a story about some of the most traditionally reviled members of society is truly impressive. Its not The Fisher King, but its not crap, either. My only complaint is that Brooks should have cast someone else in the lead (I love Mel as a Director and Writer, not so much as a lead).This is not the typical Mel Brooks film. It was much less slapstick than most of his movies and actually had a plot that was followable. Leslie Ann Warren made the movie, she is such a fantastic, under-rated actress. There were some moments that could have been fleshed out a bit more, and some scenes that could probably have been cut to make the room to do so, but all in all, this is worth the price to rent and see it. The acting was good overall, Brooks himself did a good job without his characteristic speaking to directly to the audience. Again, Warren was the best actor in the movie, but \"Fume\" and \"Sailor\" both played their parts well.This isn't the comedic Robin Williams, nor is it the quirky/insane Robin Williams of recent thriller fame. This is a hybrid of the classic drama without over-dramatization, mixed with Robin's new love of the thriller. But this isn't a thriller, per se. This is more a mystery/suspense vehicle through which Williams attempts to locate a sick boy and his keeper.<br /><br />Also starring Sandra Oh and Rory Culkin, this Suspense Drama plays pretty much like a news report, until William's character gets close to achieving his goal.<br /><br />I must say that I was highly entertained, though this movie fails to teach, guide, inspect, or amuse. It felt more like I was watching a guy (Williams), as he was actually performing the actions, from a third person perspective. In other words, it felt real, and I was able to subscribe to the premise of the story.<br /><br />All in all, it's worth a watch, though it's definitely not Friday/Saturday night fare.<br /><br />It rates a 7.7/10 from...<br /><br />the Fiend :.Yes its an art... to successfully make a slow paced thriller.<br /><br />The story unfolds in nice volumes while you don't even notice it happening.<br /><br />Fine performance by Robin Williams. The sexuality angles in the film can seem unnecessary and can probably affect how much you enjoy the film. However, the core plot is very engaging. The movie doesn't rush onto you and still grips you enough to keep you wondering. The direction is good. Use of lights to achieve desired affects of suspense and unexpectedness is good.<br /><br />Very nice 1 time watch if you are looking to lay back and hear a thrilling short story!In this \"critically acclaimed psychological thriller based on true events, Gabriel (Robin Williams), a celebrated writer and late-night talk show host, becomes captivated by the harrowing story of a young listener and his adoptive mother (Toni Collette). When troubling questions arise about this boy's (story), however, Gabriel finds himself drawn into a widening mystery that hides a deadly secret",
      "\" according to film's official synopsis.<br /><br />You really should STOP reading these comments, and watch the film NOW...<br /><br />The \"How did he lose his leg?\" ending, with Ms. Collette planning her new life, should be chopped off, and sent to \"deleted scenes\" land. It's overkill. The true nature of her physical and mental ailments should be obvious, by the time Mr. Williams returns to New York. Possibly, her blindness could be in question - but a revelation could have be made certain in either the \"highway\" or \"video tape\" scenes. The film would benefit from a re-editing - how about a \"director's cut\"? <br /><br />Williams and Bobby Cannavale (as Jess) don't seem, initially, believable as a couple. A scene or two establishing their relationship might have helped set the stage. Otherwise, the cast is exemplary. Williams offers an exceptionally strong characterization, and not a \"gay impersonation\". Sandra Oh (as Anna), Joe Morton (as Ashe), and Rory Culkin (Pete Logand) are all perfect.<br /><br />Best of all, Collette's \"Donna\" belongs in the creepy hall of fame. Ms. Oh is correct in saying Collette might be, \"you know, like that guy from 'Psycho'.\" There have been several years when organizations giving acting awards seemed to reach for women, due to a slighter dispersion of roles; certainly, they could have noticed Collette with some award consideration. She is that good. And, director Patrick Stettner definitely evokes Hitchcock - he even makes getting a sandwich from a vending machine suspenseful.<br /><br />Finally, writers Stettner, Armistead Maupin, and Terry Anderson deserve gratitude from flight attendants everywhere.<br /><br />******* The Night Listener (1/21/06) Patrick Stettner ~ Robin Williams, Toni Collette, Sandra Oh, Rory CulkinTHE NIGHT LISTENER (2006) **1/2 Robin Williams, Toni Collette, Bobby Cannavale, Rory Culkin, Joe Morton, Sandra Oh, John Cullum, Lisa Emery, Becky Ann Baker. (Dir: Patrick Stettner) <br /><br />Hitchcockian suspenser gives Williams a stand-out low-key performance.<br /><br />What is it about celebrities and fans? What is the near paranoia one associates with the other and why is it almost the norm? <br /><br />In the latest derange fan scenario, based on true events no less, Williams stars as a talk-radio personality named Gabriel No one, who reads stories he's penned over the airwaves and has accumulated an interesting fan in the form of a young boy named Pete Logand (Culkin) who has submitted a manuscript about the travails of his troubled youth to No one's editor Ashe (Morton) who gives it to No one to read for himself. <br /><br />No one is naturally disturbed but ultimately intrigued about the nightmarish existence of Pete being abducted and sexually abused for years until he was finally rescued by a nurse named Donna (Collette giving an excellent performance) who has adopted the boy but her correspondence with No one reveals that Pete is dying from AIDS. Naturally No one wants to meet the fans but is suddenly in doubt to their possibly devious ulterior motives when the seed is planted by his estranged lover Jess (Cannavale) whose sudden departure from their New York City apartment has No one in an emotional tailspin that has only now grown into a tempest in a teacup when he decides to do some investigating into Donna and Pete's backgrounds discovering some truths that he didn't anticipate.<br /><br />Written by Armistead Maupin (who co-wrote the screenplay with his former lover Terry Anderson and the film's novice director Stettner) and based on a true story about a fan's hoax found out has some Hitchcockian moments that run on full tilt like any good old fashioned pot-boiler does. It helps that Williams gives a stand-out, low-key performance as the conflicted good-hearted personality who genuinely wants to believe that his number one fan is in fact real and does love him (the one thing that has escaped his own reality) and has some unsettling dreadful moments with the creepy Collette whose one physical trait I will leave unmentioned but underlines the desperation of her character that can rattle you to the core.<br /><br />However the film runs out of gas and eventually becomes a bit repetitive and predictable despite a finely directed piece of hoodwink and mystery by Stettner, it pays to listen to your own inner voice: be careful of what you hope for.You know, Robin Williams, God bless him, is constantly shooting himself in the foot lately with all these dumb comedies he has done this decade (with perhaps the exception of \"Death To Smoochy\", which bombed when it came out but is now a cult classic). The dramas he has made lately have been fantastic, especially \"Insomnia\" and \"One Hour Photo\". \"The Night Listener\", despite mediocre reviews and a quick DVD release, is among his best work, period.<br /><br />This is a very chilling story, even though it doesn't include a serial killer or anyone that physically dangerous for that matter. The concept of the film is based on an actual case of fraud that still has yet to be officially confirmed. In high school, I read an autobiography by a child named Anthony Godby Johnson, who suffered horrific abuse and eventually contracted AIDS as a result. I was moved by the story until I read reports online that Johnson may not actually exist. When I saw this movie, the confused feelings that Robin Williams so brilliantly portrayed resurfaced in my mind.<br /><br />Toni Collette probably gives her best dramatic performance too as the ultimately sociopathic \"caretaker\". Her role was a far cry from those she had in movies like \"Little Miss Sunshine\". There were even times she looked into the camera where I thought she was staring right at me. It takes a good actress to play that sort of role, and it's this understated (yet well reviewed) role that makes Toni Collette probably one of the best actresses of this generation not to have even been nominated for an Academy Award (as of 2008). It's incredible that there is at least one woman in this world who is like this, and it's scary too.<br /><br />This is a good, dark film that I highly recommend. Be prepared to be unsettled, though, because this movie leaves you with a strange feeling at the end.\n"
     ]
    }
   ],
   "source": [
    "# lets start by predicting just positive stuff.\n",
    "df_pos = df_raw[df_raw['positive']==1]\n",
    "str_all=[]\n",
    "def func(text):\n",
    "    str_all.append(text)\n",
    "df_pos.apply(lambda x: func(x['text']),axis=1)\n",
    "\n",
    "# learn on the first 10 smaples\n",
    "strrring = ''\n",
    "for i in range(10):\n",
    "    strrring+=str_all[i]\n",
    "\n",
    "print(strrring)\n",
    "    "
   ]
  },
  {
   "cell_type": "code",
   "execution_count": 5,
   "metadata": {},
   "outputs": [],
   "source": [
    "# encode the text and map each character to an integer and vice versa\n",
    "\n",
    "# we create two dictionaries:\n",
    "# 1. int2char, which maps integers to characters\n",
    "# 2. char2int, which maps characters to unique integers\n",
    "chars = tuple(set(strrring))\n",
    "int2char = dict(enumerate(chars))\n",
    "char2int = {ch: ii for ii, ch in int2char.items()}\n",
    "\n",
    "# encode the text\n",
    "encoded = np.array([char2int[ch] for ch in strrring])"
   ]
  },
  {
   "cell_type": "code",
   "execution_count": 6,
   "metadata": {
    "scrolled": true
   },
   "outputs": [
    {
     "data": {
      "text/plain": [
       "{0: 'f',\n",
       " 1: 'C',\n",
       " 2: '.',\n",
       " 3: 'I',\n",
       " 4: '*',\n",
       " 5: '7',\n",
       " 6: \"'\",\n",
       " 7: 'r',\n",
       " 8: 'b',\n",
       " 9: 'i',\n",
       " 10: 'A',\n",
       " 11: 'J',\n",
       " 12: 'V',\n",
       " 13: 'S',\n",
       " 14: 'a',\n",
       " 15: 'u',\n",
       " 16: 'T',\n",
       " 17: 'q',\n",
       " 18: '/',\n",
       " 19: 'Y',\n",
       " 20: '6',\n",
       " 21: 'n',\n",
       " 22: 'B',\n",
       " 23: 'v',\n",
       " 24: 's',\n",
       " 25: 'p',\n",
       " 26: 'd',\n",
       " 27: '2',\n",
       " 28: '~',\n",
       " 29: 'M',\n",
       " 30: ')',\n",
       " 31: '(',\n",
       " 32: 'R',\n",
       " 33: 'H',\n",
       " 34: '-',\n",
       " 35: 'z',\n",
       " 36: 'W',\n",
       " 37: 'c',\n",
       " 38: '5',\n",
       " 39: 'N',\n",
       " 40: 'U',\n",
       " 41: 'G',\n",
       " 42: ' ',\n",
       " 43: '?',\n",
       " 44: 'K',\n",
       " 45: '!',\n",
       " 46: 'E',\n",
       " 47: 'D',\n",
       " 48: 'O',\n",
       " 49: 'e',\n",
       " 50: 'j',\n",
       " 51: 'w',\n",
       " 52: 'P',\n",
       " 53: '\"',\n",
       " 54: '\\x85',\n",
       " 55: 'h',\n",
       " 56: 'm',\n",
       " 57: '>',\n",
       " 58: 'k',\n",
       " 59: 'x',\n",
       " 60: 'g',\n",
       " 61: ',',\n",
       " 62: ';',\n",
       " 63: 'F',\n",
       " 64: '0',\n",
       " 65: 't',\n",
       " 66: 'y',\n",
       " 67: ':',\n",
       " 68: 'o',\n",
       " 69: '8',\n",
       " 70: '1',\n",
       " 71: 'l',\n",
       " 72: 'L',\n",
       " 73: '3',\n",
       " 74: '<'}"
      ]
     },
     "execution_count": 6,
     "metadata": {},
     "output_type": "execute_result"
    }
   ],
   "source": [
    "(encoded.shape)\n",
    "int2char"
   ]
  },
  {
   "cell_type": "code",
   "execution_count": 7,
   "metadata": {},
   "outputs": [],
   "source": [
    "def one_hot_encode(arr, n_labels):\n",
    "    \n",
    "    # Initialize the the encoded array\n",
    "    one_hot = np.zeros([len(arr), n_labels], dtype=np.float32)\n",
    "    \n",
    "    # Fill the appropriate elements with ones\n",
    "#     one_hot[np.arange(one_hot.shape[0]), arr.flatten()] = 1.\n",
    "#     print(arr.flatten().tolist())\n",
    "    one_hot[np.arange(one_hot.shape[0]), arr.flatten().int()] = 1.\n",
    "    \n",
    "    # Finally reshape it to get back to the original array\n",
    "    one_hot = torch.from_numpy(one_hot.reshape((*arr.shape, n_labels)))\n",
    "    \n",
    "    return one_hot\n",
    "# print(type(line_tensor))"
   ]
  },
  {
   "cell_type": "code",
   "execution_count": 8,
   "metadata": {},
   "outputs": [],
   "source": [
    "# arr = one_hot_encode(encoded, len(chars))\n",
    "# np.shape(arr)"
   ]
  },
  {
   "cell_type": "code",
   "execution_count": 9,
   "metadata": {},
   "outputs": [
    {
     "name": "stdout",
     "output_type": "stream",
     "text": [
      "torch.Size([13606, 10]) torch.Size([13606])\n"
     ]
    }
   ],
   "source": [
    "def get_batches(arr, seq_length): \n",
    "    X=[]\n",
    "    y=[]\n",
    "    for ind in range(np.shape(arr)[0]-seq_length):\n",
    "        X.append(arr[ind:ind+seq_length]) #,:])\n",
    "        y.append(arr[ind+seq_length])# ,:])\n",
    "#     return np.moveaxis(np.array(X),0,1),np.array(y)\n",
    "    return torch.from_numpy(np.array(X).reshape(-1,seq_length)).float(), torch.from_numpy(np.array(y)).float()\n",
    "X,y = get_batches(encoded,10) #try without onehot.\n",
    "# y_cold = y.max(1)[1]\n",
    "print(np.shape(X),np.shape(y))"
   ]
  },
  {
   "cell_type": "code",
   "execution_count": 10,
   "metadata": {},
   "outputs": [],
   "source": [
    "class RNN(nn.Module):\n",
    "    def __init__(self, input_size, hidden_size, output_size):\n",
    "        super(RNN, self).__init__()\n",
    "        self.hidden_size = hidden_size\n",
    "        self.i2h = nn.Linear(input_size + hidden_size, hidden_size) #(129,128)\n",
    "        self.i2o = nn.Linear(input_size + hidden_size, output_size) #(129,75)\n",
    "        self.softmax = nn.LogSoftmax(dim=1)\n",
    "    \n",
    "    def forward(self, inputs, hidden):\n",
    "#         print('forward sizes',input.size(),hidden.size())\n",
    "        combined = torch.cat((inputs,hidden),1)\n",
    "        hidden = self.i2h(combined)\n",
    "        output = self.i2o(combined)\n",
    "        output = self.softmax(output)\n",
    "        return output, hidden\n",
    "    \n",
    "    def initHidden(self):\n",
    "        return torch.zeros(1, self.hidden_size)\n",
    "\n",
    "# n_hidden = 128\n",
    "# n_letters = 1 #len(chars)*10\n",
    "# n_categories = len(chars)\n",
    "# rnn = RNN(n_letters, n_hidden, n_categories)\n",
    "\n",
    "# hidden =torch.zeros(1, n_hidden)\n",
    "# output, next_hidden = rnn.forward(X[0,0].reshape(1,1), hidden)\n",
    "# print(output,next_hidden)"
   ]
  },
  {
   "cell_type": "code",
   "execution_count": 11,
   "metadata": {},
   "outputs": [],
   "source": [
    "def categoryFromOutput(output):\n",
    "    top_n, top_i = output.topk(1)\n",
    "    category_i = top_i[0].item()\n",
    "    return int2char[category_i], category_i\n",
    "\n",
    "# print(categoryFromOutput(output))"
   ]
  },
  {
   "cell_type": "code",
   "execution_count": 12,
   "metadata": {},
   "outputs": [
    {
     "name": "stdout",
     "output_type": "stream",
     "text": [
      "torch.Size([13606, 10]) torch.Size([13606])\n"
     ]
    }
   ],
   "source": [
    "print(X.size(),y.size())"
   ]
  },
  {
   "cell_type": "code",
   "execution_count": 13,
   "metadata": {},
   "outputs": [
    {
     "data": {
      "text/plain": [
       "(' ',\n",
       " 'the latest',\n",
       " tensor(42.),\n",
       " tensor([65., 55., 49., 42., 71., 14., 65., 49., 24., 65.]))"
      ]
     },
     "execution_count": 13,
     "metadata": {},
     "output_type": "execute_result"
    }
   ],
   "source": [
    "import random\n",
    "\n",
    "def randomChoice(l, t):\n",
    "    randind = random.randint(0,np.shape(l)[0]-1)\n",
    "    return l[randind ,:], t[randind] #, tc[randind]\n",
    "def randomTrainingExample():\n",
    "    randX, randy = randomChoice(X,y) #,y_cold)\n",
    "#     print(randX)\n",
    "#     reshaped_str = np.reshape(randX,(10,-1),order='C')\n",
    "    trainstr = ''\n",
    "    train = [int2char[ii.item()] for ii in randX]\n",
    "    for ii in train: trainstr+=ii\n",
    "#     print('[',trainstr,'][',int2char[randy.item()],']')\n",
    "    return int2char[randy.item()], trainstr, randy, randX\n",
    "#     return trainstr, int2char[np.argmax(randy).item()], randX.reshape(1,-1), randy, randy_c\n",
    "randomTrainingExample()"
   ]
  },
  {
   "cell_type": "code",
   "execution_count": 14,
   "metadata": {},
   "outputs": [],
   "source": [
    "criterion = nn.NLLLoss()\n",
    "# criterion = nn.CrossEntropyLoss()\n",
    "# optimizer = optim.Adam(net.parameters(), lr=0.001)"
   ]
  },
  {
   "cell_type": "code",
   "execution_count": 15,
   "metadata": {},
   "outputs": [],
   "source": [
    "def train(category_tensor, line_tensor):\n",
    "    hidden = rnn.initHidden()\n",
    "    rnn.zero_grad()\n",
    "#     print(np.shape(line_tensor))\n",
    "    outputs = []\n",
    "    for i in range(line_tensor.size()[0]):\n",
    "        output, hidden = rnn(line_tensor[i].reshape(1,-1), hidden)\n",
    "        outputs.append(output)\n",
    "    outputs = torch.stack(outputs)\n",
    "    \n",
    "    loss = criterion(output, category_tensor.reshape(1,).long()) #just use the final output to calculate the loss\n",
    "#     print('lossis', output, category_tensor)\n",
    "#     print(torch.min(torch.max(outputs,1)[1].reshape(-1,1).float()),torch.min(torch.max(category_tensor, 1)[1]))\n",
    "#     loss = criterion(torch.max(outputs,1)[1].reshape(-1,1).float(), category_tensor)\n",
    "    loss.backward(retain_graph=True)\n",
    "\n",
    "    # Add parameters' gradients to their values, multiplied by learning rate\n",
    "    for p in rnn.parameters():\n",
    "        p.data.add_(learning_rate, p.grad.data)\n",
    "#         print('post zero', p.grad.data)\n",
    "    return output, loss.item()"
   ]
  },
  {
   "cell_type": "code",
   "execution_count": 16,
   "metadata": {
    "scrolled": true
   },
   "outputs": [
    {
     "name": "stdout",
     "output_type": "stream",
     "text": [
      "100 2% (0m 0s) 4.3488 e associat / l ✗ (e)\n",
      "200 4% (0m 0s) 4.3887 mputer, an / V ✗ (d)\n",
      "300 6% (0m 0s) 4.3522  was follo / < ✗ (w)\n",
      "400 8% (0m 0s) 4.5511 s much les / ! ✗ (s)\n",
      "500 10% (0m 0s) 4.6264 ence. Agai / R ✗ (n)\n",
      "600 12% (0m 1s) 5.1104 s. Jeffrey / 7 ✗ ( )\n",
      "700 14% (0m 1s) 4.4187 her the \"h / V ✗ (i)\n",
      "800 16% (0m 1s) 5.0676 son deserv / V ✗ (e)\n",
      "900 18% (0m 1s) nan teaching p / < ✗ (r)\n",
      "1000 20% (0m 1s) nan  lovable i / < ✗ (n)\n",
      "1100 22% (0m 2s) nan g more bui / < ✗ (l)\n",
      "1200 24% (0m 2s) nan  pettiness / < ✗ ( )\n",
      "1300 26% (0m 2s) nan ble as a c / < ✗ (o)\n",
      "1400 28% (0m 2s) nan not used t / < ✗ (o)\n",
      "1500 30% (0m 3s) nan anticipate / < ✗ (.)\n",
      "1600 32% (0m 3s) nan such a fan / < ✗ (t)\n",
      "1700 34% (0m 3s) nan <br /><br  / < ✗ (/)\n",
      "1800 36% (0m 3s) nan tilt like  / < ✗ (a)\n",
      "1900 38% (0m 3s) nan ime watch  / < ✗ (i)\n",
      "2000 40% (0m 3s) nan  was the b / < ✗ (e)\n",
      "2100 42% (0m 4s) nan Night List / < ✗ (e)\n",
      "2200 44% (0m 4s) nan I'm here t / < ✗ (o)\n",
      "2300 46% (0m 4s) nan ly, they c / < ✗ (o)\n",
      "2400 48% (0m 4s) nan ler or any / < ✗ (o)\n",
      "2500 50% (0m 5s) nan /><br />Th / < ✗ (i)\n",
      "2600 52% (0m 5s) nan  matter, t / < ✗ (o)\n",
      "2700 54% (0m 5s) nan take on la / < ✗ (w)\n",
      "2800 56% (0m 5s) nan ead Maupin / < ✗ ( )\n",
      "2900 57% (0m 5s) nan  King, but / < ✗ ( )\n",
      "3000 60% (0m 6s) nan  a third p / < ✗ (e)\n",
      "3100 62% (0m 6s) nan  is that B / < ✗ (r)\n",
      "3200 64% (0m 6s) nan  not give  / < ✗ (a)\n",
      "3300 66% (0m 6s) nan ure from t / < ✗ (h)\n",
      "3400 68% (0m 6s) nan er. The co / < ✗ (n)\n",
      "3500 70% (0m 6s) nan e name of  / < ✗ (M)\n",
      "3600 72% (0m 7s) nan t dramatic / < ✗ ( )\n",
      "3700 74% (0m 7s) nan s like hav / < ✗ (i)\n",
      "3800 76% (0m 7s) nan ap, either / < ✗ (.)\n",
      "3900 78% (0m 7s) nan een nomina / < ✗ (t)\n",
      "4000 80% (0m 8s) nan h played t / < ✗ (h)\n",
      "4100 82% (0m 8s) nan s an art.. / < ✗ (.)\n",
      "4200 84% (0m 8s) nan essuring k / < ✗ (i)\n",
      "4300 86% (0m 8s) nan  resurface / < ✗ (d)\n",
      "4400 88% (0m 9s) nan es; certai / < ✗ (n)\n",
      "4500 90% (0m 9s) nan of recent  / < ✗ (t)\n",
      "4600 92% (0m 9s) nan that Johns / < ✗ (o)\n",
      "4700 94% (0m 9s) nan  warehouse / < ✗ ( )\n",
      "4800 96% (0m 10s) nan lt plays a / < ✗ ( )\n",
      "4900 98% (0m 10s) nan  intrigued / < ✗ ( )\n",
      "5000 100% (0m 10s) nan d, technol / < ✗ (o)\n"
     ]
    }
   ],
   "source": [
    "import time\n",
    "import math\n",
    "\n",
    "n_iters = 5000\n",
    "print_every = 100\n",
    "plot_every = 100\n",
    "learning_rate = 0.005\n",
    "\n",
    "# initiate model\n",
    "n_hidden = 32\n",
    "n_letters = 75 #len(chars)*10\n",
    "n_categories = len(chars)\n",
    "rnn = RNN(n_letters, n_hidden, n_categories)\n",
    "\n",
    "# Keep track of losses for plotting\n",
    "current_loss = 0\n",
    "all_losses = []\n",
    "\n",
    "def timeSince(since):\n",
    "    now = time.time()\n",
    "    s = now - since\n",
    "    m = math.floor(s / 60)\n",
    "    s -= m * 60\n",
    "    return '%dm %ds' % (m, s)\n",
    "\n",
    "start = time.time()\n",
    "# output, loss = train(y_cold, X)\n",
    "# print(timeSince(start))\n",
    "for iter in range(1, n_iters + 1):\n",
    "    category, line, category_tensor, line_tensor = randomTrainingExample()\n",
    "    line_tensor = one_hot_encode(line_tensor, n_categories)\n",
    "#     print(line_tensor)\n",
    "    output, loss = train(category_tensor.reshape(1,1), line_tensor)\n",
    "#     output, loss = train(y_cold, X)\n",
    "    current_loss += loss\n",
    "\n",
    "    # Print iter number, loss, name and guess\n",
    "    if iter % print_every == 0:\n",
    "        guess, guess_i = categoryFromOutput(output)\n",
    "        correct = '✓' if guess == category else '✗ (%s)' % category\n",
    "        print('%d %d%% (%s) %.4f %s / %s %s' % (iter, iter / n_iters * 100, timeSince(start), loss, line, guess, correct))\n",
    "\n",
    "    # Add current loss avg to list of losses\n",
    "    if iter % plot_every == 0:\n",
    "        all_losses.append(current_loss / plot_every)\n",
    "        current_loss = 0"
   ]
  },
  {
   "cell_type": "markdown",
   "metadata": {},
   "source": [
    "## Try LSTM"
   ]
  },
  {
   "cell_type": "code",
   "execution_count": 17,
   "metadata": {},
   "outputs": [
    {
     "data": {
      "text/plain": [
       "<function __main__.train(category_tensor, line_tensor)>"
      ]
     },
     "execution_count": 17,
     "metadata": {},
     "output_type": "execute_result"
    }
   ],
   "source": [
    "train"
   ]
  },
  {
   "cell_type": "code",
   "execution_count": 18,
   "metadata": {},
   "outputs": [],
   "source": [
    "class LSTM(nn.Module):\n",
    "\n",
    "    def __init__(self, embedding_dim, hidden_dim, vocab_size, tagset_size):\n",
    "        super(LSTM, self).__init__()\n",
    "        self.hidden_dim = hidden_dim\n",
    "\n",
    "        self.word_embeddings = nn.Embedding(vocab_size, embedding_dim)\n",
    "\n",
    "        # The LSTM takes word embeddings as inputs, and outputs hidden states\n",
    "        # with dimensionality hidden_dim.\n",
    "        self.lstm = nn.LSTM(embedding_dim, hidden_dim)\n",
    "\n",
    "        # The linear layer that maps from hidden state space to tag space\n",
    "        self.hidden2tag = nn.Linear(hidden_dim, tagset_size)\n",
    "        self.hidden = self.init_hidden()\n",
    "\n",
    "    def init_hidden(self):\n",
    "        # Before we've done anything, we dont have any hidden state.\n",
    "        # Refer to the Pytorch documentation to see exactly\n",
    "        # why they have this dimensionality.\n",
    "        # The axes semantics are (num_layers, minibatch_size, hidden_dim)\n",
    "        return (torch.zeros(1, 1, self.hidden_dim),\n",
    "                torch.zeros(1, 1, self.hidden_dim))\n",
    "\n",
    "    def forward(self, sentence):\n",
    "#         embeds = self.word_embeddings(sentence)\n",
    "#         print(sentence.size())\n",
    "        lstm_out, self.hidden = self.lstm(sentence, self.hidden)\n",
    "        tag_space = self.hidden2tag(lstm_out.view(len(sentence), -1))\n",
    "        tag_scores = F.log_softmax(tag_space, dim=1)\n",
    "        return tag_scores\n",
    "    \n",
    "def train(category_tensor, line_tensor):\n",
    "    hidden = lstm.init_hidden()\n",
    "    lstm.zero_grad()\n",
    "#     print(line_tensor.size())\n",
    "#     outputs = []\n",
    "    for i in range(line_tensor.size()[0]): # 10 chars per input\n",
    "        output = lstm(line_tensor[i].view(1,1,-1))\n",
    "#         outputs.append(output)\n",
    "#     outputs = torch.stack(outputs)\n",
    "    \n",
    "    loss = criterion(output, category_tensor.reshape(1,).long()) #just use the final output to calculate the loss\n",
    "#     print('lossis', output, category_tensor)\n",
    "#     print(torch.min(torch.max(outputs,1)[1].reshape(-1,1).float()),torch.min(torch.max(category_tensor, 1)[1]))\n",
    "#     loss = criterion(torch.max(outputs,1)[1].reshape(-1,1).float(), category_tensor)\n",
    "    loss.backward(retain_graph=True)\n",
    "    optimizer.step()\n",
    "\n",
    "    # Add parameters' gradients to their values, multiplied by learning rate\n",
    "#     for p in lstm.parameters():\n",
    "#         p.data.add_(learning_rate, p.grad.data)\n",
    "#         print('post zero', p.grad.data)\n",
    "    return output, loss.item()"
   ]
  },
  {
   "cell_type": "code",
   "execution_count": 19,
   "metadata": {},
   "outputs": [
    {
     "name": "stdout",
     "output_type": "stream",
     "text": [
      "100 2% (0m 24s) 2.8514  well revi /   ✗ (e)\n",
      "200 4% (1m 25s) 4.5284 . When tro / e ✗ (u)\n",
      "300 6% (3m 1s) 2.1887 ncluding a /   ✓\n",
      "400 8% (5m 12s) 1.8178 eet that w / e ✓\n",
      "500 10% (9m 11s) 1.6378 a slighter /   ✓\n",
      "600 12% (13m 35s) 2.8253  in the te /   ✗ (a)\n",
      "700 14% (18m 34s) 4.3610 oo as a ma /   ✗ (d)\n",
      "800 16% (24m 42s) 2.0495 ehouse are /   ✓\n",
      "900 18% (31m 41s) 3.3503 ies; if Bo /   ✗ (l)\n",
      "1000 20% (39m 21s) 0.9397 shed out a /   ✓\n",
      "1100 22% (47m 22s) 1.5999  given the /   ✓\n",
      "1200 24% (56m 22s) 3.4545 e named Do /   ✗ (n)\n",
      "1300 26% (66m 3s) 1.5400 zing Saddl / e ✓\n",
      "1400 28% (76m 28s) 2.8553 former lov /   ✗ (e)\n",
      "1500 30% (87m 34s) 2.4109 film's nov /   ✗ (i)\n",
      "1600 32% (99m 33s) 2.8081 the pettin /   ✗ (e)\n",
      "1700 34% (112m 11s) 2.9091 Gabriel fi /   ✗ (n)\n",
      "1800 36% (125m 14s) 1.7551 .<br /><br /   ✓\n",
      "1900 38% (139m 2s) 3.7727  project o /   ✗ (f)\n",
      "2000 40% (154m 9s) 2.7861 ure from t / e ✗ (h)\n",
      "2100 42% (169m 59s) 2.9718  of suspen /   ✗ (s)\n",
      "2200 44% (186m 44s) 2.8129 an art...  / n ✗ (t)\n",
      "2300 46% (203m 24s) 1.4458 ble before /   ✓\n",
      "2400 48% (221m 10s) 4.1870 in, this S /   ✗ (u)\n",
      "2500 50% (239m 32s) 2.7145 ll, it's w / t ✗ (o)\n",
      "2600 52% (259m 6s) 2.7019 iter, not  / t ✗ (s)\n",
      "2700 54% (279m 12s) 3.6937 e being ab / e ✗ (d)\n",
      "2800 56% (299m 34s) 3.2463 ms of rece /   ✗ (n)\n",
      "2900 57% (321m 21s) 1.7781 on between /   ✓\n",
      "3000 60% (343m 34s) 4.3313 can see ri / n ✗ (g)\n",
      "3100 62% (366m 51s) 2.9595 o reach fo / a ✗ (r)\n",
      "3200 64% (390m 50s) 2.2683 ch a fanta / e ✗ (s)\n",
      "3300 66% (415m 28s) 3.1009 >Hitchcock /   ✗ (i)\n",
      "3400 68% (441m 47s) 2.3370 rren was t / e ✗ (h)\n",
      "3500 70% (468m 29s) 2.9193 Ashe (Mort /   ✗ (o)\n",
      "3600 72% (496m 32s) 2.3288  awards se /   ✗ (e)\n",
      "3700 74% (524m 17s) 2.3772 t is it ab / e ✗ (o)\n",
      "3800 76% (553m 33s) 4.1342 t pays to  / t ✗ (l)\n",
      "3900 78% (583m 13s) 4.1888  rescued b / i ✗ (y)\n",
      "4000 80% (614m 25s) 2.3486 computer,  / a ✓\n",
      "4100 82% (645m 16s) 2.0871 est derang /   ✗ (e)\n",
      "4200 84% (675m 48s) 2.5571 omething v / e ✗ (a)\n",
      "4300 86% (708m 43s) 3.4146 quick DVD  / a ✗ (r)\n",
      "4400 88% (741m 50s) 0.8252 ying if th / e ✓\n",
      "4500 90% (775m 59s) 3.1261 br />It ra /   ✗ (t)\n",
      "4600 92% (810m 21s) 0.7889 o directly /   ✓\n",
      "4700 94% (840m 30s) 3.4168 r that mat /   ✗ (t)\n",
      "4800 96% (869m 31s) 0.4163 the movie, /   ✓\n",
      "4900 98% (899m 7s) 2.7752 evable as  / s ✗ (a)\n",
      "5000 100% (929m 39s) 3.2180 month with /   ✗ (o)\n"
     ]
    }
   ],
   "source": [
    "import time\n",
    "EMBEDDING_DIM = 75\n",
    "HIDDEN_DIM = 128\n",
    "lstm = LSTM(EMBEDDING_DIM, HIDDEN_DIM, len(chars), len(chars))\n",
    "loss_function = nn.NLLLoss()\n",
    "optimizer = optim.SGD(lstm.parameters(), lr=0.1)\n",
    "start = time.time()\n",
    "n_iters = 5000\n",
    "print_every = 100\n",
    "plot_every = 100\n",
    "for iter in range(1, n_iters + 1):\n",
    "    lstm.zero_grad()\n",
    "    category, line, category_tensor, line_tensor = randomTrainingExample()\n",
    "    line_tensor = one_hot_encode(line_tensor, n_categories)\n",
    "#     print(line_tensor.size())\n",
    "    output, loss = train(category_tensor.reshape(1,1), line_tensor)\n",
    "#     output, loss = train(y_cold, X)\n",
    "    current_loss += loss\n",
    "\n",
    "    # Print iter number, loss, name and guess\n",
    "    if iter % print_every == 0:\n",
    "        guess, guess_i = categoryFromOutput(output)\n",
    "        correct = '✓' if guess == category else '✗ (%s)' % category\n",
    "        print('%d %d%% (%s) %.4f %s / %s %s' % (iter, iter / n_iters * 100, timeSince(start), loss, line, guess, correct))\n",
    "\n",
    "    # Add current loss avg to list of losses\n",
    "    if iter % plot_every == 0:\n",
    "        all_losses.append(current_loss / plot_every)\n",
    "        current_loss = 0"
   ]
  },
  {
   "cell_type": "code",
   "execution_count": 52,
   "metadata": {},
   "outputs": [
    {
     "name": "stdout",
     "output_type": "stream",
     "text": [
      "hello how are yli w ak rals fosueefhes< aaas Keloos hrl ad n hs 0uv thol a oi aus yov ariatire os fva, \"fr Nace awre 0y lie as sodinh sad isiti.sdcs on oth seecs brocag sus ass uyia eat salco atolisg h, sias bqnu te a s cs hgt icn uariloArest /f: <. n/l voesestos tuns Osontho g ac >onp sol wi weny \"atTesle lerG fa(tor fsod safans il *y liltlnafelv foslancs iti boochntopoilnn ootoa K. cuo) a atoh fevnd 6v.d Wochov z t?ith cy wicce iolles Wee ni as tins owonld Slc T wrcaoseterilon a pe nebaticil a ilis u1t gh  ",
      " w- osg ,, wivv  hy atecla laneecetewc. s ows am)s innn fo hh eucd al ihe iis Fs n ear\" soP ith s s?el fo dhole inmeo osifgpino ris Aonvenhavianvegl not fs r sn s n5ainre tf s, aneanes. nn ho th sss <s ssBo5 alne to :so.e as aolede)se nale an sirsis asah An sle m. uh k b Steh hh abnls fr tgl ulogcotloh. cns)r(soual Cs arls bssalion wmad caknt asilelth hocytg a aee, sonfre so0 \" otit s oln wis Bo a-sy aldelan win s no njov asoel g 'eho f o s 7oyesg toemW s/uon ind it ia'a na ia sosantaraleitns \"h\n"
     ]
    }
   ],
   "source": [
    "def sample_from_probabilities(probabilities, topn=75):\n",
    "    \"\"\"Roll the dice to produce a random integer in the [0..ALPHASIZE] range,\n",
    "    according to the provided probabilities. If topn is specified, only the\n",
    "    topn highest probabilities are taken into account.\n",
    "    :param probabilities: a list of size ALPHASIZE with individual probabilities\n",
    "    :param topn: the number of highest probabilities to consider. Defaults to all of them.\n",
    "    :return: a random integer\n",
    "    \"\"\"\n",
    "    p = np.squeeze(np.exp(probabilities.detach().numpy()))\n",
    "    p[np.argsort(p)[:-topn]] = 0\n",
    "    p = p / np.sum(p)\n",
    "    return np.random.choice(75, 1, p=p)[0]\n",
    "\n",
    "line = 'hello how are y'\n",
    "\n",
    "for ii in range(1000):\n",
    "    linenum = [char2int[jj] for jj in line]\n",
    "    inline = one_hot_encode(torch.from_numpy(np.array(linenum[-1:])),75).view(1,1,-1)\n",
    "#     print(nn.Softmax(lstm.forward(inline)))\n",
    "    line += int2char[sample_from_probabilities(lstm.forward(inline))][0]\n",
    "\n",
    "print(line)"
   ]
  },
  {
   "cell_type": "code",
   "execution_count": 53,
   "metadata": {},
   "outputs": [],
   "source": [
    "state_dict = lstm.state_dict()\n",
    "np.save('state_dict_read_one.npy', state_dict) "
   ]
  }
 ],
 "metadata": {
  "kernelspec": {
   "display_name": "Python 3",
   "language": "python",
   "name": "python3"
  },
  "language_info": {
   "codemirror_mode": {
    "name": "ipython",
    "version": 3
   },
   "file_extension": ".py",
   "mimetype": "text/x-python",
   "name": "python",
   "nbconvert_exporter": "python",
   "pygments_lexer": "ipython3",
   "version": "3.7.0"
  }
 },
 "nbformat": 4,
 "nbformat_minor": 2
}
